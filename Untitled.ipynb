{
 "cells": [
  {
   "cell_type": "code",
   "execution_count": 2,
   "id": "222101c3-6be3-463f-b4e2-69af5e18951c",
   "metadata": {},
   "outputs": [
    {
     "data": {
      "text/plain": [
       "<All keys matched successfully>"
      ]
     },
     "execution_count": 2,
     "metadata": {},
     "output_type": "execute_result"
    }
   ],
   "source": [
    "import tiktoken\n",
    "import torch\n",
    "import torch.nn as nn\n",
    "\n",
    "from RetNet import RetNet, RetnetConfig\n",
    "\n",
    "checkpoint = torch.load(\"model_04000.pt\",map_location=torch.device('cpu'))\n",
    "model = RetNet(RetnetConfig)\n",
    "model.load_state_dict(checkpoint[\"model\"])\n",
    "\n",
    "\n",
    "\n"
   ]
  },
  {
   "cell_type": "code",
   "execution_count": 4,
   "id": "60f3cd2e-d417-4070-b92f-5d6147fb51ba",
   "metadata": {},
   "outputs": [
    {
     "name": "stdout",
     "output_type": "stream",
     "text": [
      "i love you are likely to find out.\n",
      "- Don’t try to give your child a hug\n",
      "- Do try not be overly harsh\n",
      "What you need:\n",
      "- a warm bath (if you are not using a bath for a week)\n",
      "- a warm bath or bath for an hour or so a cup of tea\n",
      "- some water\n",
      "- a warm wash\n",
      "- water and warm bath for the day\n",
      "- a warm bath for a day or so a hot bath for night or the\n"
     ]
    }
   ],
   "source": [
    "inputs = \"i love you\"\n",
    "enc = tiktoken.get_encoding(\"gpt2\")\n",
    "inputs = enc.encode(inputs)\n",
    "inputs = torch.tensor(inputs).unsqueeze(0)\n",
    "outputs = model.generate(inputs, max_new_tokens=100, top_k=10)\n",
    "outputs = outputs.squeeze(0)\n",
    "print(enc.decode(outputs.tolist()))"
   ]
  },
  {
   "cell_type": "code",
   "execution_count": null,
   "id": "51180ff5-9462-4bf4-8229-8ff608cd106b",
   "metadata": {},
   "outputs": [],
   "source": []
  }
 ],
 "metadata": {
  "kernelspec": {
   "display_name": "Python 3 (ipykernel)",
   "language": "python",
   "name": "python3"
  },
  "language_info": {
   "codemirror_mode": {
    "name": "ipython",
    "version": 3
   },
   "file_extension": ".py",
   "mimetype": "text/x-python",
   "name": "python",
   "nbconvert_exporter": "python",
   "pygments_lexer": "ipython3",
   "version": "3.11.5"
  }
 },
 "nbformat": 4,
 "nbformat_minor": 5
}
